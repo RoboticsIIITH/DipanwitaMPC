{
 "cells": [
  {
   "cell_type": "code",
   "execution_count": 1,
   "metadata": {},
   "outputs": [],
   "source": [
    "import numpy as np\n",
    "import matplotlib\n",
    "import matplotlib.pyplot as plt\n",
    "from matplotlib.path import Path\n",
    "import matplotlib.patches as patches\n",
    "from matplotlib.patches import Polygon\n",
    "import matplotlib.cm as cmx\n",
    "import matplotlib.colors as colors"
   ]
  },
  {
   "cell_type": "markdown",
   "metadata": {},
   "source": [
    "## Cubic spline"
   ]
  },
  {
   "cell_type": "code",
   "execution_count": 2,
   "metadata": {},
   "outputs": [],
   "source": [
    "def poly_solver(x0,xt,xw,t0,t1,tw):\n",
    "    x = np.array([[1,t0,t0**2,t0**3],[1,t1,t1**2,t1**3],[1,tw,tw**2,tw**3],[0,1,2*t0,3*t0**2],[0,1,2*t1,3*t1**2],[0,1,2*tw,3*tw**2]])\n",
    "    b = np.array([[x0],[xt],[xw],[0],[0],[5]])\n",
    "    a = np.linalg.lstsq(x,b)[0]\n",
    "    return a"
   ]
  },
  {
   "cell_type": "code",
   "execution_count": 3,
   "metadata": {},
   "outputs": [],
   "source": [
    "def gib_spline(n,x0,xt,xw,t0,t1,tw):\n",
    "    a = poly_solver(x0,xt,xw,t0,t1,tw)\n",
    "    tlist = np.linspace(t0,t1,n)\n",
    "#     tlist = np.linspace(0,20,500)\n",
    "    xlist = [(a[0]+a[1]*i+a[2]*i**2+a[3]*i**3) for i in tlist]\n",
    "    return tlist,xlist"
   ]
  },
  {
   "cell_type": "markdown",
   "metadata": {},
   "source": [
    "## Bernstein polynomial (degree=3)"
   ]
  },
  {
   "cell_type": "code",
   "execution_count": 7,
   "metadata": {},
   "outputs": [],
   "source": [
    "from scipy.interpolate import BPoly\n",
    "from scipy.special import comb\n",
    "\n",
    "def bern_coeff_solver(x0,xt,xw,t0,t1,tw):\n",
    "    x = np.array([[(1-t0)**3,3*t0*(1-t0)**2,3*t0**2*(1-t0),t0**3],[(1-t1)**3,3*t1*(1-t1)**2,3*t1**2*(1-t1),t1**3],[(1-tw)**3,3*tw*(1-tw)**2,3*tw**2*(1-tw),tw**3],[-3*(1-t0)**2,3-12*t0+9*t0**2,6*t0-9*t0**2,3*t0**2],[-3*(1-t1)**2,3-12*t1+9*t1**2,6*t1-9*t1**2,3*t1**2],[-3*(1-tw)**2,3-12*tw+9*tw**2,6*tw-9*tw**2,3*tw**2]])\n",
    "    b = np.array([[x0],[xt],[xw],[0],[0],[5]])\n",
    "    a = np.linalg.lstsq(x,b)[0]\n",
    "    return a\n",
    "\n",
    "def gib_bernie(n,x0,xt,xw,t0,t1,tw):\n",
    "    a = bern_coeff_solver(x0,xt,xw,t0,t1,tw)\n",
    "    tlist = np.linspace(t0,t1,n)\n",
    "    xlist = [(a[0]*(1-i)**3+a[1]*3*i*(1-i)**2+a[2]*3*i**2*(1-i)+a[3]*i**3) for i in tlist]\n",
    "    return tlist,xlist"
   ]
  },
  {
   "cell_type": "code",
   "execution_count": 8,
   "metadata": {},
   "outputs": [],
   "source": [
    "time_samples = 200\n",
    "\n",
    "class agent:\n",
    "    def __init__(self,rad,tf,tw,start,waypt,goal):\n",
    "        self.rad = rad\n",
    "        self.t0 = 0\n",
    "        self.tf = tf\n",
    "        self.tw = tw\n",
    "        self.pos = start\n",
    "        self.locations_x = []\n",
    "        self.locations_y = []\n",
    "        self.goal = goal\n",
    "        self.origin = start\n",
    "        self.waypt = waypt\n",
    "        \n",
    "    \n",
    "    def get_traj_x(self):\n",
    "        times,traj_x = gib_bernie(time_samples,self.origin[0],self.goal[0],self.waypt[0],self.t0,self.tf,self.tw)\n",
    "        return times,traj_x\n",
    "    \n",
    "    def get_traj_y(self):\n",
    "        times,traj_y = gib_bernie(time_samples,self.origin[1],self.goal[1],self.waypt[1],self.t0,self.tf,self.tw)\n",
    "        return traj_y\n",
    "            \n",
    "    def get_overall_traj(self):\n",
    "        times,traj_x = self.get_traj_x()\n",
    "        traj_y = self.get_traj_y()\n",
    "        for i in range(len(times)):\n",
    "            self.pos = [traj_x[i],traj_y[i]]\n",
    "            self.locations_x.append(self.pos[0])\n",
    "            self.locations_y.append(self.pos[1])\n",
    "            self.visualize_traj(i)\n",
    "              \n",
    "    def visualize_traj(self,time):\n",
    "        figure = plt.figure()\n",
    "        ax = figure.add_subplot(1,1,1)\n",
    "        robot = matplotlib.patches.Circle(\n",
    "            (self.pos[0],self.pos[1]),\n",
    "            radius = self.rad,\n",
    "            edgecolor='black',\n",
    "            linewidth=1.0,\n",
    "            ls='solid',\n",
    "            alpha=1,\n",
    "            zorder=2)\n",
    "        ax.add_patch(robot)\n",
    "        name = 'data_poly/snap%s.png'%str(time)\n",
    "        ax.plot([self.goal[0]], [self.goal[1]], '*', color=\"red\", markersize =15,linewidth=3.0)\n",
    "        ax.plot(self.locations_x,self.locations_y,\"b--\")\n",
    "        ax.set_aspect('equal')\n",
    "        ax.set_xlim(-10.0, 60.0)\n",
    "        ax.set_ylim(-10.0, 60.0)\n",
    "        ax.set_xlabel(r'$x (m)$')\n",
    "        ax.set_ylabel(r'$y (m)$')\n",
    "        ax.grid(True)\n",
    "        plt.savefig(name, dpi = 200)\n",
    "        plt.cla()\n",
    "        plt.close(figure)\n",
    "        return figure"
   ]
  },
  {
   "cell_type": "code",
   "execution_count": 9,
   "metadata": {},
   "outputs": [
    {
     "name": "stderr",
     "output_type": "stream",
     "text": [
      "/home/susiejojo/.local/lib/python3.6/site-packages/ipykernel_launcher.py:7: FutureWarning: `rcond` parameter will change to the default of machine precision times ``max(M, N)`` where M and N are the input matrix dimensions.\n",
      "To use the future default and silence this warning we advise to pass `rcond=None`, to keep using the old, explicitly pass `rcond=-1`.\n",
      "  import sys\n"
     ]
    }
   ],
   "source": [
    "bot = agent(2,20,5,[0,0],[5,40],[40,40])\n",
    "bot.get_overall_traj()"
   ]
  },
  {
   "cell_type": "code",
   "execution_count": null,
   "metadata": {},
   "outputs": [],
   "source": []
  }
 ],
 "metadata": {
  "kernelspec": {
   "display_name": "Python 3",
   "language": "python",
   "name": "python3"
  },
  "language_info": {
   "codemirror_mode": {
    "name": "ipython",
    "version": 3
   },
   "file_extension": ".py",
   "mimetype": "text/x-python",
   "name": "python",
   "nbconvert_exporter": "python",
   "pygments_lexer": "ipython3",
   "version": "3.6.9"
  }
 },
 "nbformat": 4,
 "nbformat_minor": 2
}
