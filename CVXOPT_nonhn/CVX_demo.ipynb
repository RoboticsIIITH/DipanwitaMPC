{
 "cells": [
  {
   "cell_type": "code",
   "execution_count": 2,
   "metadata": {},
   "outputs": [],
   "source": [
    "import cvxopt\n",
    "import numpy as np"
   ]
  },
  {
   "cell_type": "code",
   "execution_count": 3,
   "metadata": {},
   "outputs": [],
   "source": [
    "P = cvxopt.matrix(np.array([[1,0],[0,0]]),tc='d')\n",
    "q = cvxopt.matrix(np.array([3,4]),tc='d')\n",
    "g = cvxopt.matrix(np.array([[-1,0],[0,-1],[-1,-3],[2,5],[3,4]]),tc='d')\n",
    "h = cvxopt.matrix(np.array([0,0,-15,100,80]),tc='d')"
   ]
  },
  {
   "cell_type": "code",
   "execution_count": 10,
   "metadata": {},
   "outputs": [
    {
     "name": "stdout",
     "output_type": "stream",
     "text": [
      "     pcost       dcost       gap    pres   dres\n",
      " 0:  1.0780e+02 -7.6366e+02  9e+02  0e+00  4e+01\n",
      " 1:  9.3245e+01  9.7637e+00  8e+01  6e-17  3e+00\n",
      " 2:  6.7311e+01  3.2553e+01  3e+01  6e-17  1e+00\n",
      " 3:  2.6071e+01  1.5068e+01  1e+01  9e-17  7e-01\n",
      " 4:  3.7092e+01  2.3152e+01  1e+01  8e-17  4e-01\n",
      " 5:  2.5352e+01  1.8652e+01  7e+00  9e-17  3e-16\n",
      " 6:  2.0062e+01  1.9974e+01  9e-02  1e-16  2e-16\n",
      " 7:  2.0001e+01  2.0000e+01  9e-04  2e-16  0e+00\n",
      " 8:  2.0000e+01  2.0000e+01  9e-06  9e-17  3e-16\n",
      "Optimal solution found.\n",
      "[ 7.13e-07]\n",
      "[ 5.00e+00]\n",
      "\n"
     ]
    }
   ],
   "source": [
    "sol = cvxopt.solvers.qp(P,q,g,h)\n",
    "print(sol['x'])"
   ]
  },
  {
   "cell_type": "code",
   "execution_count": 12,
   "metadata": {},
   "outputs": [
    {
     "name": "stdout",
     "output_type": "stream",
     "text": [
      "7.131816408857276e-07\n"
     ]
    }
   ],
   "source": [
    "print (sol['x'][0])"
   ]
  },
  {
   "cell_type": "code",
   "execution_count": null,
   "metadata": {},
   "outputs": [],
   "source": []
  }
 ],
 "metadata": {
  "kernelspec": {
   "display_name": "Python 3",
   "language": "python",
   "name": "python3"
  },
  "language_info": {
   "codemirror_mode": {
    "name": "ipython",
    "version": 3
   },
   "file_extension": ".py",
   "mimetype": "text/x-python",
   "name": "python",
   "nbconvert_exporter": "python",
   "pygments_lexer": "ipython3",
   "version": "3.6.9"
  }
 },
 "nbformat": 4,
 "nbformat_minor": 2
}
